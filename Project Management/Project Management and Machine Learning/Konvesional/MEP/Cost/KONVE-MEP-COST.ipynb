{
 "cells": [
  {
   "cell_type": "markdown",
   "id": "5ff4ad44",
   "metadata": {},
   "source": [
    "# **1. Import Library**"
   ]
  },
  {
   "cell_type": "code",
   "execution_count": 1,
   "id": "d11edbc6",
   "metadata": {},
   "outputs": [],
   "source": [
    "import pandas as pd\n",
    "import numpy as np\n",
    "from sklearn.model_selection import train_test_split\n",
    "from sklearn.metrics import r2_score, mean_squared_error\n",
    "from openpyxl import load_workbook\n",
    "from openpyxl.utils import get_column_letter\n",
    "import itertools\n",
    "from sklearn.preprocessing import PolynomialFeatures\n",
    "from sklearn.linear_model import LinearRegression\n",
    "from sklearn.neural_network import MLPRegressor\n",
    "from sklearn.svm import SVR\n",
    "from sklearn.pipeline import make_pipeline\n",
    "from sklearn.pipeline import Pipeline\n",
    "\n",
    "\n",
    "import warnings\n",
    "import sys\n",
    "if not sys.warnoptions:\n",
    "    warnings.simplefilter(\"ignore\")"
   ]
  },
  {
   "cell_type": "markdown",
   "id": "0f30050b",
   "metadata": {},
   "source": [
    "# **2. Input Dataset**"
   ]
  },
  {
   "cell_type": "code",
   "execution_count": 2,
   "id": "2469c656",
   "metadata": {},
   "outputs": [],
   "source": [
    "path = \"C:/Users/User/Videos/Project Management and Machine Learning/Dataset/COST/MEP\""
   ]
  },
  {
   "cell_type": "markdown",
   "id": "08e60952",
   "metadata": {},
   "source": [
    "# **3.Clear Excel Output** "
   ]
  },
  {
   "cell_type": "code",
   "execution_count": 3,
   "id": "48138bac",
   "metadata": {},
   "outputs": [],
   "source": [
    "def clear_all_data(file):\n",
    "    workbook = load_workbook(file)\n",
    "    sheet_names = workbook.sheetnames\n",
    "    \n",
    "    if not sheet_names:\n",
    "        # If there are no sheets, create a new sheet and make it visible\n",
    "        workbook.create_sheet(\"Sheet1\")\n",
    "    else:\n",
    "        # Remove all sheets except the first one\n",
    "        for sheet_name in sheet_names[1:]:\n",
    "            workbook.remove(workbook[sheet_name])\n",
    "    \n",
    "    workbook.save(file)\n",
    "    workbook.close()"
   ]
  },
  {
   "cell_type": "code",
   "execution_count": 4,
   "id": "9e39d8e6",
   "metadata": {},
   "outputs": [],
   "source": [
    "clear_path = \"C:/Users/User/Videos/Project Management and Machine Learning/Konvesional/MEP/COST\""
   ]
  },
  {
   "cell_type": "code",
   "execution_count": 5,
   "id": "a5042241",
   "metadata": {},
   "outputs": [],
   "source": [
    "excel_file1 = clear_path+\"/RESULT-KONVE-MEP-COST.xlsx\"\n",
    "excel_file2 = clear_path+\"/PARAM-KONVE-MEP-COST.xlsx\"\n",
    "\n",
    "clear_all_data(excel_file1)\n",
    "clear_all_data(excel_file2)"
   ]
  },
  {
   "cell_type": "markdown",
   "id": "705100ee",
   "metadata": {},
   "source": [
    "# **3. Modeling**"
   ]
  },
  {
   "cell_type": "code",
   "execution_count": 6,
   "id": "885d1323",
   "metadata": {},
   "outputs": [],
   "source": [
    "class KonveRegressor:\n",
    "    def __init__(self, data_source_file, result_file,params_file):\n",
    "        self.data_source_file = data_source_file\n",
    "        self.result_file = result_file\n",
    "        self.params_file = params_file\n",
    "        self.models = {\n",
    "            'ANN':MLPRegressor ,\n",
    "            'SVM': SVR,\n",
    "            'Poly': make_pipeline(PolynomialFeatures(),LinearRegression())\n",
    "        }\n",
    "    \n",
    "\n",
    "    def train_and_predict(self, sheet, model_name='ANN', param_grid=None):\n",
    "        # Splitting features and label\n",
    "        data = pd.read_excel(self.data_source_file, sheet_name=sheet)\n",
    "        X = data.drop(columns='ACWP')\n",
    "        y = data['ACWP']\n",
    "\n",
    "        # Splitting data into training and testing sets\n",
    "        x_train, x_test, y_train, y_test = train_test_split(X, y, train_size=0.8, random_state=58)\n",
    "        x_train = x_train.sort_index(ascending=True)\n",
    "        y_train = y_train.sort_index(ascending=True)\n",
    "        x_test = x_test.sort_index(ascending=True)\n",
    "        y_test = y_test.sort_index(ascending=True)\n",
    "\n",
    "        # Model selection\n",
    "        model_class = self.models.get(model_name)\n",
    "        if model_class is None:\n",
    "            raise ValueError(f\"Invalid model name: {model_name}\")\n",
    "\n",
    "        # Parameter tuning\n",
    "        best_params, results = self.tune_parameters(model_class, x_train, y_train, param_grid)\n",
    "\n",
    "        # Train the model with the best parameters\n",
    "        if model_name == 'Poly':\n",
    "            model = make_pipeline(PolynomialFeatures(**{'degree': best_params['polynomialfeatures__degree'],\n",
    "                                                       'include_bias':best_params['polynomialfeatures__include_bias']}),\n",
    "                                     LinearRegression(**{'normalize':best_params['linearregression__normalize']}))\n",
    "        else:\n",
    "            model = model_class(**best_params)\n",
    "        \n",
    "        model.fit(x_train, y_train)\n",
    "        \n",
    "        # Predict on the test set\n",
    "        x_test.reset_index(drop=True, inplace=True)\n",
    "\n",
    "        ev_pred = model.predict(x_test)\n",
    "\n",
    "        # Create a DataFrame with predictions\n",
    "        perform = pd.DataFrame({'AT':x_test.iloc[:,0].values,'BCWP':x_test.iloc[:,1].values,\n",
    "                                'ACWP': y_test.values, 'ACWP_Pred': ev_pred, 'Model': model_name})\n",
    "        results ['Model']=model_name\n",
    "        results ['Method'] = \"konvensional\"\n",
    "        results ['Subwork'] = sheet \n",
    "        results ['Work'] = \"MEP\"\n",
    "        results ['Process'] = \"Cost\"\n",
    "        \n",
    "        perform ['Method'] = \"konvensional\"\n",
    "        perform ['Subwork'] = sheet \n",
    "        perform ['Work'] = \"MEP\"\n",
    "        perform ['Process'] = \"Cost\"\n",
    "        # Save the results to Excel files\n",
    "        self.to_excel(perform, self.result_file, sheet)\n",
    "        self.to_excel(results, self.params_file, sheet)\n",
    "\n",
    "    def tune_parameters(self, model_class, X, y, param_grid=None):\n",
    "        if param_grid is None:\n",
    "            param_grid = {}\n",
    "\n",
    "        best_params = None\n",
    "        best_score = float('inf')\n",
    "        results = []\n",
    "        \n",
    "        if isinstance(model_class, Pipeline) :\n",
    "            for params in self.grid_search(param_grid):\n",
    "                model_class == make_pipeline(PolynomialFeatures(), LinearRegression())\n",
    "                degree = params['polynomialfeatures__degree']\n",
    "                normalize = params['linearregression__normalize']\n",
    "                bias = params['polynomialfeatures__include_bias']\n",
    "                model = make_pipeline(PolynomialFeatures(degree=degree,include_bias = bias), LinearRegression(normalize=normalize))\n",
    "                model.set_params(**params)\n",
    "                model.fit(X, y)\n",
    "                y_pred = model.predict(X)\n",
    "                r2 = self.evaluate_r2(y, y_pred)\n",
    "                rmse = self.evaluate_rmse(y, y_pred)\n",
    "\n",
    "                results.append({**params, 'R2': r2, 'RMSE': rmse})\n",
    "\n",
    "                if rmse < best_score:\n",
    "                    best_score = rmse\n",
    "                    best_params = params\n",
    "        else :\n",
    "            model = model_class() \n",
    "            for params in self.grid_search(param_grid):\n",
    "                model = model_class()\n",
    "            \n",
    "\n",
    "                model.set_params(**params)\n",
    "                model.fit(X, y)\n",
    "                y_pred = model.predict(X)\n",
    "                r2 = self.evaluate_r2(y, y_pred)\n",
    "                rmse = self.evaluate_rmse(y, y_pred)\n",
    "\n",
    "                results.append({**params, 'R2': r2, 'RMSE': rmse})\n",
    "\n",
    "                if rmse < best_score:\n",
    "                    best_score = rmse\n",
    "                    best_params = params\n",
    "\n",
    "        results_df = pd.DataFrame(results)\n",
    "        return best_params, results_df\n",
    "\n",
    "    @staticmethod\n",
    "    def grid_search(param_grid):\n",
    "        keys, values = zip(*param_grid.items())\n",
    "        for combination in itertools.product(*values):\n",
    "            yield dict(zip(keys, combination))\n",
    "\n",
    "    @staticmethod\n",
    "    def evaluate_r2(y_true, y_pred):\n",
    "        return r2_score(y_true, y_pred)\n",
    "\n",
    "    @staticmethod\n",
    "    def evaluate_rmse(y_true, y_pred):\n",
    "        return (np.sqrt(mean_squared_error(y_true, y_pred)))/1000000000\n",
    "    \n",
    "    @staticmethod\n",
    "    def to_excel(df, file, sheet_name):\n",
    "        try:\n",
    "            book = load_workbook(file)\n",
    "            writer = pd.ExcelWriter(file, engine='openpyxl')\n",
    "            writer.book = book\n",
    "            writer.sheets = dict((ws.title, ws) for ws in book.worksheets)\n",
    "\n",
    "            if sheet_name in writer.sheets:\n",
    "                sheet = writer.sheets[sheet_name]\n",
    "                last_row = sheet.max_row\n",
    "            else:\n",
    "                last_row = 0\n",
    "\n",
    "            if last_row < 1:\n",
    "                df.to_excel(writer, sheet_name=sheet_name, index=False)\n",
    "            else:\n",
    "                df.to_excel(writer, sheet_name=sheet_name, index=False, header=True, startrow=last_row)\n",
    "\n",
    "            writer.save()\n",
    "        except FileNotFoundError:\n",
    "            df.to_excel(file, sheet_name=sheet_name, index=False)"
   ]
  },
  {
   "cell_type": "markdown",
   "id": "48fa3702",
   "metadata": {},
   "source": [
    "# **Running MK1**"
   ]
  },
  {
   "cell_type": "code",
   "execution_count": 7,
   "id": "de84d78e",
   "metadata": {},
   "outputs": [],
   "source": [
    "data_source_file = path+\"/Dataset.xlsx\"\n",
    "result_file = \"RESULT-KONVE-MEP-COST.xlsx\"\n",
    "params_file = \"PARAM-KONVE-MEP-COST.xlsx\"\n",
    "\n",
    "ensemble = KonveRegressor(data_source_file, result_file,params_file )\n",
    "\n",
    "\n",
    "param_grid_ann = { 'hidden_layer_sizes': [10,50, 100],'activation': ['logistic', 'tanh', 'relu'],'learning_rate_init': [0.01, 0.05, 0.01] }\n",
    "param_grid_svm = { 'kernel': [ 'rbf'] ,'C':[1,2,4],'epsilon':[0.1,0.2,0.3] }\n",
    "param_grid_poly = {\n",
    "    'polynomialfeatures__degree': [2, 3, 4],  \n",
    "    'linearregression__normalize': [True, False],\n",
    "    'polynomialfeatures__include_bias' : [True, False]\n",
    "}"
   ]
  },
  {
   "cell_type": "code",
   "execution_count": 8,
   "id": "5add3186",
   "metadata": {},
   "outputs": [],
   "source": [
    "ensemble.train_and_predict('MK1', model_name='ANN', param_grid=param_grid_ann)"
   ]
  },
  {
   "cell_type": "code",
   "execution_count": 9,
   "id": "34bb5c98",
   "metadata": {},
   "outputs": [],
   "source": [
    "ensemble.train_and_predict('MK1', model_name='SVM', param_grid=param_grid_svm)"
   ]
  },
  {
   "cell_type": "code",
   "execution_count": 10,
   "id": "8eda6e27",
   "metadata": {
    "scrolled": false
   },
   "outputs": [],
   "source": [
    "ensemble.train_and_predict('MK1', model_name='Poly', param_grid=param_grid_poly)"
   ]
  },
  {
   "cell_type": "markdown",
   "id": "cab8a815",
   "metadata": {},
   "source": [
    "# **Running MK2**"
   ]
  },
  {
   "cell_type": "code",
   "execution_count": 11,
   "id": "1078cb82",
   "metadata": {},
   "outputs": [],
   "source": [
    "ensemble.train_and_predict('MK2', model_name='ANN', param_grid=param_grid_ann)"
   ]
  },
  {
   "cell_type": "code",
   "execution_count": 12,
   "id": "0b900955",
   "metadata": {},
   "outputs": [],
   "source": [
    "ensemble.train_and_predict('MK2', model_name='SVM', param_grid=param_grid_svm)"
   ]
  },
  {
   "cell_type": "code",
   "execution_count": 13,
   "id": "64975724",
   "metadata": {
    "scrolled": false
   },
   "outputs": [],
   "source": [
    "ensemble.train_and_predict('MK2', model_name='Poly', param_grid=param_grid_poly)"
   ]
  },
  {
   "cell_type": "markdown",
   "id": "35af6b75",
   "metadata": {},
   "source": [
    "# **Running EK1**"
   ]
  },
  {
   "cell_type": "code",
   "execution_count": 14,
   "id": "31fbf3a3",
   "metadata": {},
   "outputs": [],
   "source": [
    "ensemble.train_and_predict('EK1', model_name='ANN', param_grid=param_grid_ann)"
   ]
  },
  {
   "cell_type": "code",
   "execution_count": 15,
   "id": "7cc568a1",
   "metadata": {},
   "outputs": [],
   "source": [
    "ensemble.train_and_predict('EK1', model_name='SVM', param_grid=param_grid_svm)"
   ]
  },
  {
   "cell_type": "code",
   "execution_count": 16,
   "id": "6ca01ae7",
   "metadata": {},
   "outputs": [],
   "source": [
    "ensemble.train_and_predict('EK1', model_name='Poly', param_grid=param_grid_poly)"
   ]
  },
  {
   "cell_type": "markdown",
   "id": "ef1f1ce9",
   "metadata": {},
   "source": [
    "# **Running EK1**"
   ]
  },
  {
   "cell_type": "code",
   "execution_count": 17,
   "id": "fda43eda",
   "metadata": {},
   "outputs": [],
   "source": [
    "ensemble.train_and_predict('EK2', model_name='ANN', param_grid=param_grid_ann)"
   ]
  },
  {
   "cell_type": "code",
   "execution_count": 18,
   "id": "9308ab83",
   "metadata": {},
   "outputs": [],
   "source": [
    "ensemble.train_and_predict('EK2', model_name='SVM', param_grid=param_grid_svm)"
   ]
  },
  {
   "cell_type": "code",
   "execution_count": 19,
   "id": "a65f7f21",
   "metadata": {
    "scrolled": false
   },
   "outputs": [],
   "source": [
    "ensemble.train_and_predict('EK2', model_name='Poly', param_grid=param_grid_poly)"
   ]
  },
  {
   "cell_type": "markdown",
   "id": "e77e4df3",
   "metadata": {},
   "source": [
    "# **Running PB1**"
   ]
  },
  {
   "cell_type": "code",
   "execution_count": 20,
   "id": "040b38de",
   "metadata": {},
   "outputs": [],
   "source": [
    "ensemble.train_and_predict('PB1', model_name='ANN', param_grid=param_grid_ann)"
   ]
  },
  {
   "cell_type": "code",
   "execution_count": 21,
   "id": "773ebf08",
   "metadata": {},
   "outputs": [],
   "source": [
    "ensemble.train_and_predict('PB1', model_name='SVM', param_grid=param_grid_svm)"
   ]
  },
  {
   "cell_type": "code",
   "execution_count": 22,
   "id": "d1c78e87",
   "metadata": {
    "scrolled": false
   },
   "outputs": [],
   "source": [
    "ensemble.train_and_predict('PB1', model_name='Poly', param_grid=param_grid_poly)"
   ]
  },
  {
   "cell_type": "markdown",
   "id": "a7447dbc",
   "metadata": {},
   "source": [
    "# **Running PB2**\n"
   ]
  },
  {
   "cell_type": "code",
   "execution_count": 23,
   "id": "6c85a0f1",
   "metadata": {},
   "outputs": [],
   "source": [
    "ensemble.train_and_predict('PB2', model_name='ANN', param_grid=param_grid_ann)"
   ]
  },
  {
   "cell_type": "code",
   "execution_count": 24,
   "id": "4e64e459",
   "metadata": {},
   "outputs": [],
   "source": [
    "ensemble.train_and_predict('PB2', model_name='SVM', param_grid=param_grid_svm)"
   ]
  },
  {
   "cell_type": "code",
   "execution_count": 25,
   "id": "0e6e4954",
   "metadata": {
    "scrolled": false
   },
   "outputs": [],
   "source": [
    "ensemble.train_and_predict('PB2', model_name='Poly', param_grid=param_grid_poly)"
   ]
  },
  {
   "cell_type": "markdown",
   "id": "5e4bd7e1",
   "metadata": {},
   "source": [
    "# **Running GKB1**\n"
   ]
  },
  {
   "cell_type": "code",
   "execution_count": 26,
   "id": "b813c2a9",
   "metadata": {},
   "outputs": [],
   "source": [
    "ensemble.train_and_predict('GKB1', model_name='ANN', param_grid=param_grid_ann)"
   ]
  },
  {
   "cell_type": "code",
   "execution_count": 27,
   "id": "85113b38",
   "metadata": {},
   "outputs": [],
   "source": [
    "ensemble.train_and_predict('GKB1', model_name='SVM', param_grid=param_grid_svm)"
   ]
  },
  {
   "cell_type": "code",
   "execution_count": 28,
   "id": "baa2a683",
   "metadata": {
    "scrolled": false
   },
   "outputs": [],
   "source": [
    "ensemble.train_and_predict('GKB1', model_name='Poly', param_grid=param_grid_poly)"
   ]
  },
  {
   "cell_type": "markdown",
   "id": "b4c3d4c0",
   "metadata": {},
   "source": [
    "# **Running GKB2**"
   ]
  },
  {
   "cell_type": "code",
   "execution_count": 29,
   "id": "a0e568d1",
   "metadata": {},
   "outputs": [],
   "source": [
    "ensemble.train_and_predict('GKB2', model_name='ANN', param_grid=param_grid_ann)"
   ]
  },
  {
   "cell_type": "code",
   "execution_count": 30,
   "id": "f2b62f66",
   "metadata": {},
   "outputs": [],
   "source": [
    "ensemble.train_and_predict('GKB2', model_name='SVM', param_grid=param_grid_svm)"
   ]
  },
  {
   "cell_type": "code",
   "execution_count": 31,
   "id": "f73cbfa4",
   "metadata": {
    "scrolled": false
   },
   "outputs": [],
   "source": [
    "ensemble.train_and_predict('GKB2', model_name='Poly', param_grid=param_grid_poly)"
   ]
  },
  {
   "cell_type": "markdown",
   "id": "cbe1cd8e",
   "metadata": {},
   "source": [
    "# **Running GKB**"
   ]
  },
  {
   "cell_type": "code",
   "execution_count": 32,
   "id": "05b36d9c",
   "metadata": {},
   "outputs": [],
   "source": [
    "ensemble.train_and_predict('GKB', model_name='ANN', param_grid=param_grid_ann)"
   ]
  },
  {
   "cell_type": "code",
   "execution_count": 33,
   "id": "284887fd",
   "metadata": {},
   "outputs": [],
   "source": [
    "ensemble.train_and_predict('GKB', model_name='SVM', param_grid=param_grid_svm)"
   ]
  },
  {
   "cell_type": "code",
   "execution_count": 34,
   "id": "c5993163",
   "metadata": {
    "scrolled": false
   },
   "outputs": [],
   "source": [
    "ensemble.train_and_predict('GKB', model_name='Poly', param_grid=param_grid_poly)"
   ]
  }
 ],
 "metadata": {
  "kernelspec": {
   "display_name": "Python 3 (ipykernel)",
   "language": "python",
   "name": "python3"
  },
  "language_info": {
   "codemirror_mode": {
    "name": "ipython",
    "version": 3
   },
   "file_extension": ".py",
   "mimetype": "text/x-python",
   "name": "python",
   "nbconvert_exporter": "python",
   "pygments_lexer": "ipython3",
   "version": "3.9.12"
  }
 },
 "nbformat": 4,
 "nbformat_minor": 5
}
