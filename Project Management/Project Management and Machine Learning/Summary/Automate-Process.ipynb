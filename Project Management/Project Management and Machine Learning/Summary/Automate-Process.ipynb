{
 "cells": [
  {
   "cell_type": "markdown",
   "id": "58a376be",
   "metadata": {},
   "source": [
    "# **Library & Clear Data**"
   ]
  },
  {
   "cell_type": "code",
   "execution_count": 1,
   "id": "dc191a45",
   "metadata": {},
   "outputs": [],
   "source": [
    "import pandas as pd\n",
    "import os\n",
    "import openpyxl\n",
    "from openpyxl import load_workbook\n",
    "from openpyxl.utils import get_column_letter"
   ]
  },
  {
   "cell_type": "code",
   "execution_count": 3,
   "id": "513125cb",
   "metadata": {},
   "outputs": [],
   "source": [
    "excel_files = ['Parameter.xlsx', 'Result.xlsx']\n",
    "\n",
    "for file_name in excel_files:\n",
    "    workbook = openpyxl.load_workbook(file_name)\n",
    "\n",
    "    for sheet_name in workbook.sheetnames:\n",
    "        worksheet = workbook[sheet_name]\n",
    "\n",
    "        for row in worksheet:\n",
    "            for cell in row:\n",
    "                cell.value = None\n",
    "\n",
    "    workbook.save(file_name)"
   ]
  },
  {
   "cell_type": "markdown",
   "id": "5df5943e",
   "metadata": {},
   "source": [
    "# **Auto**"
   ]
  },
  {
   "cell_type": "code",
   "execution_count": 4,
   "id": "1ed74b9a",
   "metadata": {},
   "outputs": [],
   "source": [
    "%run \"C:/Users/User/Videos/Project Management and Machine Learning/Ensemble/MEP/Time/ENSEMBLE-MEP-TIME.ipynb\""
   ]
  },
  {
   "cell_type": "code",
   "execution_count": 5,
   "id": "de944536",
   "metadata": {},
   "outputs": [],
   "source": [
    "%run \"C:/Users/User/Videos/Project Management and Machine Learning/Ensemble/MEP/Cost/ENSEMBLE-MEP-COST.ipynb\""
   ]
  },
  {
   "cell_type": "code",
   "execution_count": 6,
   "id": "6733fd69",
   "metadata": {},
   "outputs": [],
   "source": [
    "%run \"C:/Users/User/Videos/Project Management and Machine Learning/Ensemble/KONS/Time/ENSEMBLE-KONS-TIME.ipynb\""
   ]
  },
  {
   "cell_type": "code",
   "execution_count": 7,
   "id": "e0b1b1c9",
   "metadata": {},
   "outputs": [],
   "source": [
    "%run \"C:/Users/User/Videos/Project Management and Machine Learning/Ensemble/KONS/Cost/ENSEMBLE-KONS-COST.ipynb\""
   ]
  },
  {
   "cell_type": "code",
   "execution_count": 8,
   "id": "62fd1e13",
   "metadata": {},
   "outputs": [],
   "source": [
    "%run \"C:/Users/User/Videos/Project Management and Machine Learning/Ensemble/ARSI/Time/ENSEMBLE-ARSI-TIME.ipynb\""
   ]
  },
  {
   "cell_type": "code",
   "execution_count": 9,
   "id": "680aa93d",
   "metadata": {},
   "outputs": [],
   "source": [
    "%run \"C:/Users/User/Videos/Project Management and Machine Learning/Ensemble/ARSI/Cost/ENSEMBLE-ARSI-COST.ipynb\""
   ]
  },
  {
   "cell_type": "code",
   "execution_count": 10,
   "id": "7a670c17",
   "metadata": {},
   "outputs": [],
   "source": [
    "%run \"C:/Users/User/Videos/Project Management and Machine Learning/Konvesional/MEP/Time/KONVE-MEP-TIME.ipynb\""
   ]
  },
  {
   "cell_type": "code",
   "execution_count": 11,
   "id": "806a5544",
   "metadata": {},
   "outputs": [],
   "source": [
    "%run \"C:/Users/User/Videos/Project Management and Machine Learning/Konvesional/MEP/Cost/KONVE-MEP-COST.ipynb\""
   ]
  },
  {
   "cell_type": "code",
   "execution_count": 12,
   "id": "262364ab",
   "metadata": {},
   "outputs": [],
   "source": [
    "%run \"C:/Users/User/Videos/Project Management and Machine Learning/Konvesional/KONS/Time/KONVE-KONS-TIME.ipynb\""
   ]
  },
  {
   "cell_type": "code",
   "execution_count": 13,
   "id": "9c253341",
   "metadata": {},
   "outputs": [],
   "source": [
    "%run \"C:/Users/User/Videos/Project Management and Machine Learning/Konvesional/KONS/Cost/KONVE-KONS-COST.ipynb\""
   ]
  },
  {
   "cell_type": "code",
   "execution_count": 14,
   "id": "1584621d",
   "metadata": {},
   "outputs": [],
   "source": [
    "%run \"C:/Users/User/Videos/Project Management and Machine Learning/Konvesional/ARSI/Time/KONVE-ARSI-TIME.ipynb\""
   ]
  },
  {
   "cell_type": "code",
   "execution_count": 15,
   "id": "85a29a24",
   "metadata": {},
   "outputs": [],
   "source": [
    "%run \"C:/Users/User/Videos/Project Management and Machine Learning/Konvesional/ARSI/Cost/KONVE-ARSI-COST.ipynb\""
   ]
  },
  {
   "cell_type": "markdown",
   "id": "89fe1bdc",
   "metadata": {},
   "source": [
    "# **Summary Data**"
   ]
  },
  {
   "cell_type": "markdown",
   "id": "76c8b4d9",
   "metadata": {},
   "source": [
    "## **1. Parameter**"
   ]
  },
  {
   "cell_type": "code",
   "execution_count": 16,
   "id": "b4a67051",
   "metadata": {},
   "outputs": [],
   "source": [
    "directory = 'C:/Users/User/Videos/Project Management and Machine Learning/Summary'\n",
    "dfs = []\n",
    "\n",
    "for filename in os.listdir(directory):\n",
    "    if filename.endswith('.xlsx') and 'PARAM-KONVE' in filename.split('.')[0]:\n",
    "        file_path = os.path.join(directory, filename)\n",
    "        excel_data = pd.read_excel(file_path, sheet_name=None)\n",
    "        dfs.extend(excel_data.values())\n",
    "concatenated_data_1 = pd.concat(dfs, axis=0, ignore_index=True)\n",
    "concatenated_data_1 = concatenated_data_1.rename (columns ={\"hidden_layer_sizes\":\"Param1\",\"activation\":\"Param2\",\"learning_rate_init\":\"Param3\"})"
   ]
  },
  {
   "cell_type": "code",
   "execution_count": 17,
   "id": "28a78c23",
   "metadata": {},
   "outputs": [],
   "source": [
    "directory = 'C:/Users/User/Videos/Project Management and Machine Learning/Summary'\n",
    "dfs = []\n",
    "\n",
    "for filename in os.listdir(directory):\n",
    "    if filename.endswith('.xlsx') and 'PARAM-ENSEMBLE' in filename.split('.')[0]:\n",
    "        file_path = os.path.join(directory, filename)\n",
    "        excel_data = pd.read_excel(file_path, sheet_name=None)\n",
    "        dfs.extend(excel_data.values())\n",
    "concatenated_data_2 = pd.concat(dfs, axis=0, ignore_index=True)\n",
    "concatenated_data_2 = concatenated_data_2.rename (columns ={\"n_estimators\":\"Param1\",\"max_depth\":\"Param2\",\"learning_rate\":\"Param3\"})"
   ]
  },
  {
   "cell_type": "code",
   "execution_count": 18,
   "id": "967905ff",
   "metadata": {},
   "outputs": [],
   "source": [
    "All_param = pd.concat([concatenated_data_1,concatenated_data_2])\n",
    "non_numeric_rows =pd.to_numeric(All_param['RMSE'], errors='coerce').isna()\n",
    "All_param = All_param.drop(All_param[non_numeric_rows].index)"
   ]
  },
  {
   "cell_type": "markdown",
   "id": "c78070e9",
   "metadata": {},
   "source": [
    "## **2. Result**"
   ]
  },
  {
   "cell_type": "code",
   "execution_count": 19,
   "id": "e4755b01",
   "metadata": {},
   "outputs": [],
   "source": [
    "directory = 'C:/Users/User/Videos/Project Management and Machine Learning/Summary'\n",
    "dfs = []\n",
    "\n",
    "for filename in os.listdir(directory):\n",
    "    if filename.endswith('COST.xlsx') and 'RESULT' in filename.split('.')[0]:\n",
    "        file_path = os.path.join(directory, filename)\n",
    "        excel_data = pd.read_excel(file_path, sheet_name=None)\n",
    "        dfs.extend(excel_data.values())\n",
    "concatenated_data_3 = pd.concat(dfs, axis=0, ignore_index=True)\n",
    "concatenated_data_3 = concatenated_data_3.rename (columns ={\"AT\":\"Feature1\",\n",
    "                                                            \"BCWP\":\"Feature2\",\n",
    "                                                            \"ACWP\":\"Actual\",\n",
    "                                                           \"ACWP_Pred\":\"Pred\"})"
   ]
  },
  {
   "cell_type": "code",
   "execution_count": 20,
   "id": "19daa0d8",
   "metadata": {},
   "outputs": [],
   "source": [
    "directory = 'C:/Users/User/Videos/Project Management and Machine Learning/Summary'\n",
    "dfs = []\n",
    "\n",
    "for filename in os.listdir(directory):\n",
    "    if filename.endswith('TIME.xlsx') and 'RESULT' in filename.split('.')[0]:\n",
    "        file_path = os.path.join(directory, filename)\n",
    "        excel_data = pd.read_excel(file_path, sheet_name=None)\n",
    "        dfs.extend(excel_data.values())\n",
    "concatenated_data_4 = pd.concat(dfs, axis=0, ignore_index=True)\n",
    "concatenated_data_4 = concatenated_data_4.rename (columns ={\"AT\":\"Feature1\",\n",
    "                                                            \"Planned Value\":\"Feature2\",\n",
    "                                                            \"Actual\":\"Actual\",\n",
    "                                                           \"EV_Pred\":\"Pred\"})"
   ]
  },
  {
   "cell_type": "code",
   "execution_count": 21,
   "id": "773e134b",
   "metadata": {},
   "outputs": [],
   "source": [
    "All_result = pd.concat([concatenated_data_3,concatenated_data_4])\n",
    "non_numeric_rows_result =pd.to_numeric(All_result['Feature1'], errors='coerce').isna()\n",
    "All_result = All_result.drop(All_result[non_numeric_rows_result].index)"
   ]
  },
  {
   "cell_type": "code",
   "execution_count": 22,
   "id": "976fd27e",
   "metadata": {},
   "outputs": [],
   "source": [
    "All_param.to_excel('Parameter.xlsx')"
   ]
  },
  {
   "cell_type": "code",
   "execution_count": 23,
   "id": "136e08bb",
   "metadata": {},
   "outputs": [],
   "source": [
    "All_result.to_excel('Result.xlsx')"
   ]
  },
  {
   "cell_type": "code",
   "execution_count": null,
   "id": "b7690907",
   "metadata": {},
   "outputs": [],
   "source": []
  }
 ],
 "metadata": {
  "kernelspec": {
   "display_name": "Python 3 (ipykernel)",
   "language": "python",
   "name": "python3"
  },
  "language_info": {
   "codemirror_mode": {
    "name": "ipython",
    "version": 3
   },
   "file_extension": ".py",
   "mimetype": "text/x-python",
   "name": "python",
   "nbconvert_exporter": "python",
   "pygments_lexer": "ipython3",
   "version": "3.9.12"
  }
 },
 "nbformat": 4,
 "nbformat_minor": 5
}
